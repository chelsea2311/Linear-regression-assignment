{
 "cells": [
  {
   "cell_type": "markdown",
   "metadata": {},
   "source": [
    "## Simple Linear Regression"
   ]
  },
  {
   "cell_type": "markdown",
   "metadata": {},
   "source": [
    "### Agenda\n",
    "   \n",
    "    ♦ Problem Description\n",
    "    ♦ Data Understanding\n",
    "    ♦ Handling Missing values\n",
    "    ♦ Data Exploratory Analysis\n",
    "    ♦ Split the data into Train and Validation sets\n",
    "    ♦ Build a simple linear regression model\n",
    "    ♦ Interpret model results\n"
   ]
  },
  {
   "cell_type": "markdown",
   "metadata": {},
   "source": [
    "### Problem Description"
   ]
  },
  {
   "cell_type": "markdown",
   "metadata": {},
   "source": [
    "The given data has various attributes of a car, use linear regression approach to estimate price of the car with a combination of collected features. \n",
    "\n",
    "\n",
    "Price - The cost of the car\n",
    "\n",
    "Country - The country in which the car is up for sale\n",
    "\n",
    "Reliability - An ordinal metric for understanding the reliability of the car\n",
    "\n",
    "Mileage - The fuel efficiency of the car\n",
    "\n",
    "Type - A categorical variable defining the category to which the car belongs.\n",
    "\n",
    "Weight - The weight of the car\n",
    "\n",
    "Displacement - Represents the engine displacement of the car\n",
    "\n",
    "HP - Horsepower of the car, a unit that measures it's power\n"
   ]
  },
  {
   "cell_type": "markdown",
   "metadata": {},
   "source": [
    "### Data Reading"
   ]
  },
  {
   "cell_type": "code",
   "execution_count": null,
   "metadata": {},
   "outputs": [],
   "source": [
    "getwd()"
   ]
  },
  {
   "cell_type": "code",
   "execution_count": null,
   "metadata": {},
   "outputs": [],
   "source": [
    "## Load the data\n",
    "cars_data  <- read.csv(file = \"cars.csv\")"
   ]
  },
  {
   "cell_type": "code",
   "execution_count": null,
   "metadata": {},
   "outputs": [],
   "source": []
  },
  {
   "cell_type": "markdown",
   "metadata": {},
   "source": [
    "### Data Understanding"
   ]
  },
  {
   "cell_type": "markdown",
   "metadata": {},
   "source": [
    "Check the number of observations and attributes\n",
    "\n",
    "Classify independent variables and dependent variable\n",
    "\n",
    "In Linear Regression, the dependent variable is continuous variable.\n",
    "\n",
    "For Simple Linear Regression we will predict dependent variable with one independent variable\n",
    "\n",
    "For this example, we will consider the Price as dependent variable and the Displacement of the car as the independent variable.\n"
   ]
  },
  {
   "cell_type": "markdown",
   "metadata": {},
   "source": [
    " "
   ]
  },
  {
   "cell_type": "code",
   "execution_count": null,
   "metadata": {
    "scrolled": true
   },
   "outputs": [],
   "source": [
    "dim(cars_data)"
   ]
  },
  {
   "cell_type": "code",
   "execution_count": null,
   "metadata": {},
   "outputs": [],
   "source": [
    "str(cars_data)"
   ]
  },
  {
   "cell_type": "code",
   "execution_count": null,
   "metadata": {},
   "outputs": [],
   "source": [
    "head(cars_data)"
   ]
  },
  {
   "cell_type": "code",
   "execution_count": null,
   "metadata": {},
   "outputs": [],
   "source": [
    "tail(cars_data)"
   ]
  },
  {
   "cell_type": "markdown",
   "metadata": {},
   "source": [
    "### Summary Statistics"
   ]
  },
  {
   "cell_type": "code",
   "execution_count": null,
   "metadata": {},
   "outputs": [],
   "source": [
    "summary(cars_data)"
   ]
  },
  {
   "cell_type": "markdown",
   "metadata": {},
   "source": [
    "### Data Type Conversion\n",
    "Check if any data type conversions have to be done.\n"
   ]
  },
  {
   "cell_type": "code",
   "execution_count": null,
   "metadata": {},
   "outputs": [],
   "source": [
    "#Convert \"Reliability\" to factor variable\n",
    "cars_data[, \"Reliability\"] <- as.factor(as.character(cars_data[, \"Reliability\"]))"
   ]
  },
  {
   "cell_type": "code",
   "execution_count": null,
   "metadata": {},
   "outputs": [],
   "source": [
    "cars_data[, \"Country\"] <- as.factor(as.character(cars_data[, \"Country\"]))\n",
    "cars_data[, \"Type\"] <- as.factor(as.character(cars_data[, \"Type\"]))"
   ]
  },
  {
   "cell_type": "code",
   "execution_count": null,
   "metadata": {},
   "outputs": [],
   "source": [
    "str(cars_data)"
   ]
  },
  {
   "cell_type": "code",
   "execution_count": null,
   "metadata": {},
   "outputs": [],
   "source": [
    "summary(cars_data)"
   ]
  },
  {
   "cell_type": "code",
   "execution_count": null,
   "metadata": {},
   "outputs": [],
   "source": [
    "table(cars_data$Country)"
   ]
  },
  {
   "cell_type": "markdown",
   "metadata": {},
   "source": [
    "### Handling Missing Values"
   ]
  },
  {
   "cell_type": "code",
   "execution_count": null,
   "metadata": {},
   "outputs": [],
   "source": [
    "## Look for Missing Values\n",
    "sum(is.na(cars_data))"
   ]
  },
  {
   "cell_type": "code",
   "execution_count": null,
   "metadata": {},
   "outputs": [],
   "source": [
    "colSums(is.na(cars_data))"
   ]
  },
  {
   "cell_type": "code",
   "execution_count": null,
   "metadata": {},
   "outputs": [],
   "source": [
    "which(is.na(cars_data$Reliability))"
   ]
  },
  {
   "cell_type": "code",
   "execution_count": null,
   "metadata": {},
   "outputs": [],
   "source": [
    "library(DMwR)"
   ]
  },
  {
   "cell_type": "code",
   "execution_count": null,
   "metadata": {},
   "outputs": [],
   "source": [
    "## Imputing missing values\n",
    "library(DMwR)\n",
    "cars_data=centralImputation(cars_data)"
   ]
  },
  {
   "cell_type": "code",
   "execution_count": null,
   "metadata": {},
   "outputs": [],
   "source": [
    "sum(is.na(cars_data))"
   ]
  },
  {
   "cell_type": "code",
   "execution_count": null,
   "metadata": {},
   "outputs": [],
   "source": [
    "options(repr.plot.width = 10, repr.plot.height = 10)\n",
    "plot(cars_data$Mileage, cars_data$Price, xlab = \"Mileage\",\n",
    "     ylab = \"Price\", main = \"Mileage vs Price\")"
   ]
  },
  {
   "cell_type": "markdown",
   "metadata": {},
   "source": [
    "### Data Exploratory Analysis"
   ]
  },
  {
   "cell_type": "code",
   "execution_count": null,
   "metadata": {},
   "outputs": [],
   "source": [
    "#Plot the Dependent and  Independent variables\n",
    "# _*Scatter Plot*_ helps to view the relationship between two continuous variables\n",
    "\n",
    "options(repr.plot.width = 10, repr.plot.height = 10)\n",
    "par(mfrow = c(2,2)) # Splits the plotting pane 2*2\n",
    "\n",
    "plot(cars_data$Weight, cars_data$Price, xlab = \"Weight\", \n",
    "     ylab = \"Price\", main = \"Weight vs Price\")\n",
    "\n",
    "plot(cars_data$Mileage, cars_data$Price, xlab = \"Mileage\",\n",
    "     ylab = \"Price\", main = \"Mileage vs Price\")\n",
    "\n",
    "plot(cars_data$Disp., cars_data$Price, xlab = \"Displacement\",\n",
    "     ylab = \"Price\", main = \"Displacement vs Price\")\n",
    "\n",
    "plot(cars_data$HP, cars_data$Price, xlab = \"Horse Power\", \n",
    "     ylab = \"Price\", main = \"Horse Power vs Price\")\n"
   ]
  },
  {
   "cell_type": "code",
   "execution_count": null,
   "metadata": {},
   "outputs": [],
   "source": [
    "# Correlation can be calculated only for numerical attributes.\n",
    "cor_data = cor(cars_data[,c(\"Price\",\"Mileage\",\"Weight\",\"Disp.\",\"HP\")])      \n",
    "# Correlation between independent and dependent variable\n",
    "cor_data\n",
    "\n",
    "# The values of correlation coefficient ranges from -1 to 1\n",
    "## Corrplot\n",
    "library(corrplot)\n",
    "par(mfrow = c(1,1))\n",
    "\n",
    "corrplot(cor_data, method = \"number\")"
   ]
  },
  {
   "cell_type": "markdown",
   "metadata": {},
   "source": [
    "### Split the data into Train and Validation sets"
   ]
  },
  {
   "cell_type": "code",
   "execution_count": null,
   "metadata": {},
   "outputs": [],
   "source": [
    "1:100"
   ]
  },
  {
   "cell_type": "code",
   "execution_count": null,
   "metadata": {},
   "outputs": [],
   "source": [
    "set.seed(1)\n",
    "sample(1:100,size=10)"
   ]
  },
  {
   "cell_type": "code",
   "execution_count": null,
   "metadata": {},
   "outputs": [],
   "source": [
    "cars_data[c(5,50),]"
   ]
  },
  {
   "cell_type": "code",
   "execution_count": null,
   "metadata": {},
   "outputs": [],
   "source": [
    "## Split row numbers into 2 sets\n",
    "set.seed(1)\n",
    "train_rows = sample(1:nrow(cars_data), size=0.7*nrow(cars_data))\n",
    "validation_rows = setdiff(1:nrow(cars_data),train_rows)"
   ]
  },
  {
   "cell_type": "code",
   "execution_count": null,
   "metadata": {},
   "outputs": [],
   "source": [
    "train_rows"
   ]
  },
  {
   "cell_type": "code",
   "execution_count": null,
   "metadata": {},
   "outputs": [],
   "source": [
    "validation_rows"
   ]
  },
  {
   "cell_type": "code",
   "execution_count": null,
   "metadata": {},
   "outputs": [],
   "source": [
    "## Subset into Train and Validation sets\n",
    "train_data <- cars_data[train_rows,]\n",
    "validation_data <- cars_data[validation_rows,]"
   ]
  },
  {
   "cell_type": "code",
   "execution_count": null,
   "metadata": {
    "scrolled": true
   },
   "outputs": [],
   "source": [
    "## View the dimensions of the data\n",
    "dim(cars_data)\n",
    "dim(train_data)\n",
    "dim(validation_data)"
   ]
  },
  {
   "cell_type": "markdown",
   "metadata": {},
   "source": [
    "### Build A Simple Linear Regression Model"
   ]
  },
  {
   "cell_type": "code",
   "execution_count": null,
   "metadata": {},
   "outputs": [],
   "source": [
    "names(train_data)"
   ]
  },
  {
   "cell_type": "code",
   "execution_count": null,
   "metadata": {},
   "outputs": [],
   "source": [
    "# lm function is used to fit linear models\n",
    "LinReg = lm(Price ~ Disp., data = train_data)"
   ]
  },
  {
   "cell_type": "markdown",
   "metadata": {},
   "source": [
    "### Interpret model results"
   ]
  },
  {
   "cell_type": "code",
   "execution_count": null,
   "metadata": {},
   "outputs": [],
   "source": [
    "## Summary of the linear model\n",
    "summary(LinReg)\n",
    "\n",
    "# Summary displays the following: \n",
    "# Formula given (Call) - Shows the function call used to compute the regression model.\n",
    "# Residuals. Provide a quick view of the distribution of the residuals, which by definition have a mean zero.\n",
    "# Coefficients and the test statistic values. Shows the regression beta coefficients and their statistical significance. Predictor variables, that are significantly associated to the outcome variable, are marked by stars.\n",
    "# Residual Standard Error (RSE)\n",
    "# Multiple R- Squared (which we generally refer to as R squared or Co-efficient of Determination)\n",
    "# F statistic - Test for Model\n",
    "\n",
    "# The statistical hypothesis is as follows :\n",
    "# Null Hypothesis (H0):        the coefficients (slope) are equal to zero \n",
    "                               #(i.e., no relationship between x and y)\n",
    "# Alternative Hypothesis (H1): the coefficients (slope) are not equal to zero \n",
    "                               #(i.e., there is some relationship between x and y)"
   ]
  },
  {
   "cell_type": "markdown",
   "metadata": {},
   "source": [
    "#### Try answering these questions (Interpreting model output) :\n",
    "\n",
    "Is the Slope significant?\n",
    "\n",
    "Is the Model significant?\n",
    "\n",
    "What is the predictive power of the model (R-squared)?\n",
    "\n",
    "In our example, both the p-values for the intercept and the predictor variable are highly significant, so we can reject the null hypothesis and accept the alternative hypothesis, which means that there is a significant association between the predictor and the outcome variables."
   ]
  },
  {
   "cell_type": "markdown",
   "metadata": {},
   "source": [
    "#### Regression line on top of data"
   ]
  },
  {
   "cell_type": "code",
   "execution_count": null,
   "metadata": {},
   "outputs": [],
   "source": [
    "plot(train_data$Disp.,train_data$Price)\n",
    "\n",
    "abline(LinReg)"
   ]
  },
  {
   "cell_type": "markdown",
   "metadata": {},
   "source": [
    "#### Regression Equation\n",
    "PredictedPrice = 5213.12 + 51.71 * Disp."
   ]
  },
  {
   "cell_type": "code",
   "execution_count": null,
   "metadata": {},
   "outputs": [],
   "source": [
    "head(train_data)"
   ]
  },
  {
   "cell_type": "code",
   "execution_count": null,
   "metadata": {},
   "outputs": [],
   "source": [
    "5213.12 + 51.71 * 181"
   ]
  },
  {
   "cell_type": "code",
   "execution_count": null,
   "metadata": {
    "scrolled": true
   },
   "outputs": [],
   "source": [
    "## Extracting residuals and fitted values\n",
    "#  Target \n",
    "head(train_data$Price)\n",
    "# To extract the predictions\n",
    "head(as.numeric(LinReg$fitted.values))\n",
    "# To extract the residuals:\n",
    "head(as.numeric(LinReg$residuals))"
   ]
  },
  {
   "cell_type": "code",
   "execution_count": null,
   "metadata": {},
   "outputs": [],
   "source": [
    "14944 - 14571.823458939"
   ]
  },
  {
   "cell_type": "markdown",
   "metadata": {},
   "source": [
    "#### Now build simple linear regression using the following attributes\n",
    "\n",
    "1.HP\n",
    "\n",
    "2.Weight\n",
    "\n",
    "3.Mileage\n",
    "\n",
    "Observe the difference in the R-square for each of the model and select the best attribute for predicting the price of car\n"
   ]
  },
  {
   "cell_type": "code",
   "execution_count": null,
   "metadata": {},
   "outputs": [],
   "source": [
    "LinReg_HP = lm(Price ~ HP, data = train_data)\n",
    "summary(LinReg_HP)"
   ]
  },
  {
   "cell_type": "code",
   "execution_count": null,
   "metadata": {},
   "outputs": [],
   "source": [
    "LinReg_Weight = lm(Price ~ Weight, data = train_data)\n",
    "summary(LinReg_Weight)"
   ]
  },
  {
   "cell_type": "code",
   "execution_count": null,
   "metadata": {},
   "outputs": [],
   "source": [
    "LinReg_Mileage = lm(Price ~ Mileage, data = train_data)\n",
    "summary(LinReg_Mileage)"
   ]
  },
  {
   "cell_type": "code",
   "execution_count": null,
   "metadata": {},
   "outputs": [],
   "source": [
    "LinReg_Mileage$fitted.values"
   ]
  },
  {
   "cell_type": "code",
   "execution_count": null,
   "metadata": {},
   "outputs": [],
   "source": [
    "LinReg_Mileage$residuals"
   ]
  },
  {
   "cell_type": "code",
   "execution_count": null,
   "metadata": {},
   "outputs": [],
   "source": [
    "#Residual analysis\n",
    "\n",
    "#options(repr.plot.width = 10, repr.plot.height = 10)\n",
    "\n",
    "par(mfrow=c(2,2))\n",
    "plot(LinReg_Mileage,col='darkgreen')"
   ]
  },
  {
   "cell_type": "code",
   "execution_count": null,
   "metadata": {},
   "outputs": [],
   "source": [
    "#Residual outliers\n",
    "residuals = LinReg_Mileage$residuals\n",
    "outliers <- boxplot(residuals)$out"
   ]
  },
  {
   "cell_type": "code",
   "execution_count": null,
   "metadata": {},
   "outputs": [],
   "source": [
    "outliers"
   ]
  }
 ],
 "metadata": {
  "kernelspec": {
   "display_name": "R",
   "language": "R",
   "name": "ir"
  },
  "language_info": {
   "codemirror_mode": "r",
   "file_extension": ".r",
   "mimetype": "text/x-r-source",
   "name": "R",
   "pygments_lexer": "r",
   "version": "4.1.0"
  }
 },
 "nbformat": 4,
 "nbformat_minor": 4
}
